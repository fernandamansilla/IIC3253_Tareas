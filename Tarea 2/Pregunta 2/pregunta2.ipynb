{
 "cells": [
  {
   "cell_type": "code",
   "execution_count": 7,
   "metadata": {},
   "outputs": [],
   "source": [
    "import random \n",
    "from random import randint"
   ]
  },
  {
   "cell_type": "markdown",
   "metadata": {},
   "source": [
    "### Exponensiación rapida"
   ]
  },
  {
   "cell_type": "markdown",
   "metadata": {},
   "source": [
    "http://www-users.math.umn.edu/~garrett/crypto/Code/FastPow_Python.html "
   ]
  },
  {
   "cell_type": "code",
   "execution_count": 1,
   "metadata": {},
   "outputs": [],
   "source": [
    "def exp_mod(a,b,n):\n",
    "    X = a\n",
    "    E = b\n",
    "    Y = 1\n",
    "    while E > 0:\n",
    "        if E % 2 == 0:#Es par?\n",
    "            X = (X * X) % n\n",
    "            E = E/2\n",
    "        else:\n",
    "            Y = (X * Y) % n\n",
    "            E = E - 1\n",
    "    return Y"
   ]
  },
  {
   "cell_type": "code",
   "execution_count": 2,
   "metadata": {},
   "outputs": [],
   "source": [
    "def exp(a,b):\n",
    "    if b == 0:\n",
    "        return 1\n",
    "    else:   \n",
    "        result = a\n",
    "        for i in range(b-1):\n",
    "            result *=a\n",
    "        return result\n",
    "        "
   ]
  },
  {
   "cell_type": "markdown",
   "metadata": {},
   "source": [
    "### Miller Rabin"
   ]
  },
  {
   "cell_type": "markdown",
   "metadata": {},
   "source": [
    "#### Referencias:\n",
    "\n",
    "https://gist.github.com/Ayrx/5884790 \n",
    "\n",
    "https://www.geeksforgeeks.org/primality-test-set-3-miller-rabin/ \n",
    "\n",
    "https://github.com/womogenes/Miller-Rabin/blob/master/miller_rabin.py\n",
    "\n",
    "La función power se implemento para mejorar la velocidad de computo del numero primo. Sin embargo, esta usa shift y AND, en caso de no poner utilizarlos esta funcion puede ser remplazada por exp_mod"
   ]
  },
  {
   "cell_type": "code",
   "execution_count": 47,
   "metadata": {},
   "outputs": [],
   "source": [
    "def power_(x, y, p):\n",
    "    res = 1;\n",
    "    x = x % p;\n",
    "    while (y > 0): # mayor a 0\n",
    "        if (y%2)>0: #Verifico si es par\n",
    "            res = (res * x) % p;#pondero por el numero y calculo el modulo\n",
    "        y = y//2 #Div entera por 2\n",
    "        x = (x * x) % p; #pondero y saco modulo\n",
    "     \n",
    "    return res;"
   ]
  },
  {
   "cell_type": "code",
   "execution_count": 48,
   "metadata": {},
   "outputs": [],
   "source": [
    "\n",
    "def miller_rabin(n, k):\n",
    "    if n == 2: #Es 2?\n",
    "        return True\n",
    "\n",
    "    if n % 2 == 0: #Es par?\n",
    "        return False\n",
    "\n",
    "    r, s = 0, n - 1\n",
    "    while s % 2 == 0:\n",
    "        r += 1\n",
    "        s //= 2\n",
    "    for i in range(k):\n",
    "        a = random.randrange(2, n - 1)\n",
    "        x = power_(a, s, n)\n",
    "        if x == 1 or x == n - 1:\n",
    "            continue\n",
    "        for j in range(r - 1):\n",
    "            x = power_(x, 2, n)\n",
    "            if x == n - 1:\n",
    "                break\n",
    "        else:\n",
    "            return False\n",
    "    return True\n"
   ]
  },
  {
   "cell_type": "code",
   "execution_count": 43,
   "metadata": {},
   "outputs": [],
   "source": [
    "def random_with_N_digits(n):\n",
    "    range_start = 10**(n-1) #\n",
    "    range_end = (10**n)-1 #exp(10,n) -1 #\n",
    "    return randint(range_start, range_end)\n"
   ]
  },
  {
   "cell_type": "code",
   "execution_count": 49,
   "metadata": {},
   "outputs": [],
   "source": [
    "#random_with_N_digits(5)"
   ]
  },
  {
   "cell_type": "code",
   "execution_count": 45,
   "metadata": {},
   "outputs": [],
   "source": [
    "def generar_primo(l):\n",
    "    while True:       \n",
    "        a = random_with_N_digits(l) \n",
    "        if miller_rabin(a,100):\n",
    "            return a"
   ]
  },
  {
   "cell_type": "code",
   "execution_count": 50,
   "metadata": {},
   "outputs": [],
   "source": [
    "#generar_primo(100)"
   ]
  },
  {
   "cell_type": "markdown",
   "metadata": {},
   "source": [
    "### Algoritmo extendido de euclides"
   ]
  },
  {
   "cell_type": "markdown",
   "metadata": {},
   "source": [
    "https://www.geeksforgeeks.org/python-program-for-basic-and-extended-euclidean-algorithms-2/\n",
    "    \n",
    "https://www.techiedelight.com/extended-euclidean-algorithm-implementation/    "
   ]
  },
  {
   "cell_type": "code",
   "execution_count": 15,
   "metadata": {},
   "outputs": [],
   "source": [
    "def gcdExtended(a, b): \n",
    "    # Caso base \n",
    "    if a == 0 :  \n",
    "        return b,0,1\n",
    "             \n",
    "    gcd,x1,y1 = gcdExtended(b%a, a) \n",
    "     \n",
    "    # Actualizo x y uso el resultado recursivo\n",
    "    x = y1 - (b//a) * x1 \n",
    "    y = x1 \n",
    "     \n",
    "    return gcd,x,y\n",
    "      \n",
    "def alg_ext_euclides(a,b):\n",
    "    gcd = gcdExtended(a,b)\n",
    "    return gcd[0]\n",
    " "
   ]
  },
  {
   "cell_type": "markdown",
   "metadata": {},
   "source": [
    "### Inverso"
   ]
  },
  {
   "cell_type": "markdown",
   "metadata": {},
   "source": [
    "https://www.geeksforgeeks.org/multiplicative-inverse-under-modulo-m/"
   ]
  },
  {
   "cell_type": "code",
   "execution_count": 16,
   "metadata": {},
   "outputs": [],
   "source": [
    "def inverso(a, n):\n",
    "     \n",
    "    for x in range(1, n):\n",
    "        if (((a%n) * (x%n)) % n == 1):\n",
    "            return x\n",
    "    return -1"
   ]
  },
  {
   "cell_type": "markdown",
   "metadata": {},
   "source": [
    "### Claves Publicas y Privadas\n",
    "\n",
    "Revisar lo de los largos y randoms"
   ]
  },
  {
   "cell_type": "code",
   "execution_count": 36,
   "metadata": {},
   "outputs": [],
   "source": [
    "def generar_claves(l):\n",
    "    l_ = random.randint(2, l)\n",
    "    P = generar_primo(l) # l o numero random <= a l ?\n",
    "    Q = generar_primo(l)\n",
    "    N = P*Q\n",
    "    phi_N = (P-1)*(Q-1)\n",
    "    \n",
    "    primo_rel = 0 #Para iniciar la variable\n",
    "    busca_primo_rel = True\n",
    "    while busca_primo_rel:\n",
    "        primo_rel = random_with_N_digits(l) #El primo relativo \n",
    "        if alg_ext_euclides(primo_rel,phi_N) == 1:\n",
    "            busca_primo_rel= False\n",
    "    inverso_primo = inverso(primo_rel, phi_N)\n",
    "    S = (inverso_primo, N)\n",
    "    P = (primo_rel, N)\n",
    "    \n",
    "    #Escritura de archivo clave secreta\n",
    "    fs = open('private_key', 'w')\n",
    "    fs.write(str(S[0])+ \"\\n\")\n",
    "    fs.write(str(S[1])+ \"\\n\")\n",
    "    fs.close()\n",
    "    \n",
    "     #Escritura de archivo clave publica\n",
    "    fp = open('public_key', 'w')\n",
    "    fp.write(str(P[0])+ \"\\n\")\n",
    "    fp.write(str(P[1])+ \"\\n\")\n",
    "    \n",
    "    return  [S, P]\n",
    "            "
   ]
  },
  {
   "cell_type": "code",
   "execution_count": 40,
   "metadata": {},
   "outputs": [
    {
     "data": {
      "text/plain": [
       "[(1126844303, 3579095129), (14807, 3579095129)]"
      ]
     },
     "execution_count": 40,
     "metadata": {},
     "output_type": "execute_result"
    }
   ],
   "source": [
    "#generar_claves(5)"
   ]
  },
  {
   "cell_type": "markdown",
   "metadata": {},
   "source": [
    "### Cifrado y Decifrado"
   ]
  },
  {
   "cell_type": "code",
   "execution_count": null,
   "metadata": {},
   "outputs": [],
   "source": [
    "def enc(m):\n",
    "    p = open(\"public_key\", \"r\").read().splitlines()\n",
    "    return pow(m, int(p[0]), int(p[1]))"
   ]
  },
  {
   "cell_type": "code",
   "execution_count": null,
   "metadata": {},
   "outputs": [],
   "source": [
    "def dec(m):\n",
    "    s = open(\"private_key\", \"r\").read().splitlines()\n",
    "    return pow(m, int(s[0]), int(s[1]))"
   ]
  },
  {
   "cell_type": "code",
   "execution_count": null,
   "metadata": {},
   "outputs": [],
   "source": []
  }
 ],
 "metadata": {
  "kernelspec": {
   "display_name": "Python 3",
   "language": "python",
   "name": "python3"
  },
  "language_info": {
   "codemirror_mode": {
    "name": "ipython",
    "version": 3
   },
   "file_extension": ".py",
   "mimetype": "text/x-python",
   "name": "python",
   "nbconvert_exporter": "python",
   "pygments_lexer": "ipython3",
   "version": "3.8.5"
  }
 },
 "nbformat": 4,
 "nbformat_minor": 4
}
