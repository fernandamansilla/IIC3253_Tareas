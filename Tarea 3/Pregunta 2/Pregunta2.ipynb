{
 "cells": [
  {
   "cell_type": "markdown",
   "metadata": {},
   "source": [
    "# Tarea 3\n",
    "## Pregunta 2"
   ]
  },
  {
   "cell_type": "markdown",
   "metadata": {},
   "source": [
    "El archivo grupo.txt contiene 3 lineas que contienen p,g y q en formato hexadecimal. Una linea c/u y en el orden especificado"
   ]
  },
  {
   "cell_type": "code",
   "execution_count": 1,
   "metadata": {},
   "outputs": [],
   "source": [
    "import random"
   ]
  },
  {
   "cell_type": "code",
   "execution_count": 2,
   "metadata": {},
   "outputs": [],
   "source": [
    "#Exponenciación modular\n",
    "\n",
    "def power_(x, y, p):\n",
    "    res = 1;\n",
    "    x = x % p;\n",
    "    while (y > 0): # mayor a 0\n",
    "        if (y%2)>0: #Verifico si es par\n",
    "            res = (res * x) % p;#pondero por el numero y calculo el modulo\n",
    "        y = y//2 #Div entera por 2\n",
    "        x = (x * x) % p; #pondero y saco modulo\n",
    "     \n",
    "    return res;"
   ]
  },
  {
   "cell_type": "code",
   "execution_count": 3,
   "metadata": {},
   "outputs": [],
   "source": [
    "def generar_clave_ElGamal():\n",
    "    \n",
    "    #Lectura de grupo\n",
    "    grupo = open('grupo.txt', 'r')\n",
    "    p = grupo.readline().replace(\" \",\"\")\n",
    "    g = grupo.readline().replace(\" \",\"\")\n",
    "    q = grupo.readline().replace(\" \",\"\")\n",
    "    p_int = int(p,16)\n",
    "    g_int = int(g,16)\n",
    "    q_int = int(q,16)\n",
    "\n",
    "    #Llave privada\n",
    "    x = random.randrange(1,q_int-1)\n",
    "    \n",
    "    #Llave publica\n",
    "    gx = power_(g_int,x,p_int)\n",
    "    \n",
    "    #Escritura de archivo clave secreta\n",
    "    fs = open('private_key.txt', 'w')\n",
    "    fs.write(str(x))\n",
    "    fs.close()\n",
    "    \n",
    "     #Escritura de archivo clave publica\n",
    "    fp = open('public_key.txt', 'w')\n",
    "    fp.write(str(gx))\n",
    "    fp.close()\n",
    "    "
   ]
  },
  {
   "cell_type": "code",
   "execution_count": 4,
   "metadata": {},
   "outputs": [],
   "source": [
    "#generar_clave_ElGamal()"
   ]
  },
  {
   "cell_type": "code",
   "execution_count": 5,
   "metadata": {},
   "outputs": [],
   "source": [
    "#Se implementa md5 utilizando la libreria hashlib\n",
    "import hashlib\n",
    "\n",
    "\n",
    "def md5(m):\n",
    "    h_m = hashlib.md5(m.encode('utf-8')).hexdigest()\n",
    "    return int(h_m,16)  "
   ]
  },
  {
   "cell_type": "code",
   "execution_count": 6,
   "metadata": {},
   "outputs": [],
   "source": [
    "#md5('hol-ñ@a')"
   ]
  },
  {
   "cell_type": "code",
   "execution_count": 7,
   "metadata": {},
   "outputs": [],
   "source": [
    "def firmar_Schnorr(m):\n",
    "    grupo = open('grupo.txt', 'r')\n",
    "    p = grupo.readline().replace(\" \",\"\")\n",
    "    p_int = int(p,16)\n",
    "    g = grupo.readline().replace(\" \",\"\")\n",
    "    g_int = int(g,16)\n",
    "    q = grupo.readline().replace(\" \",\"\")\n",
    "    q_int = int(q,16)\n",
    "    \n",
    "    secret = open(\"private_key.txt\", \"r\").read().splitlines()\n",
    "    secret = int(secret[0])\n",
    "    \n",
    "    k = random.randrange(1,q_int-1)\n",
    "    r = power_(g_int, k, p_int )\n",
    "    \n",
    "    r_m = str(r)+m\n",
    "    e = md5(r_m)\n",
    "    s = (k -(secret*e))%(p_int-1)\n",
    "\n",
    "    return (e,s)\n",
    "    "
   ]
  },
  {
   "cell_type": "code",
   "execution_count": 8,
   "metadata": {},
   "outputs": [],
   "source": [
    "def verificar_firma_Schnorr(m, firma):\n",
    "    public = open(\"public_key.txt\", \"r\").read().splitlines()\n",
    "    y = int(public[0]) #g**x\n",
    "    e = firma[0]\n",
    "    s = firma[1]\n",
    "\n",
    "    \n",
    "    # Información de grupo\n",
    "    grupo = open('grupo.txt', 'r')\n",
    "    p = grupo.readline().replace(\" \",\"\")\n",
    "    p_int = int(p,16)\n",
    "    g = grupo.readline().replace(\" \",\"\")\n",
    "    g_int = int(g,16)\n",
    "    \n",
    "    # Manejo de exponenciacion negativa\n",
    "    if s > 0: \n",
    "        gs = power_(g_int,s,p_int)\n",
    "    else:\n",
    "        g_int_ = 1/g_int\n",
    "        gs = power_(g_int_,s*-1, p_int)\n",
    "        \n",
    "    #Calculo de r'    \n",
    "    ye = power_(y,e,p_int)\n",
    "    r_ = (gs*ye)%p_int # g**s * y**e\n",
    "    \n",
    "    r_m = str(r_)+m\n",
    "    hrm = md5(r_m)\n",
    "    return hrm == e\n",
    "      "
   ]
  },
  {
   "cell_type": "code",
   "execution_count": null,
   "metadata": {},
   "outputs": [],
   "source": []
  }
 ],
 "metadata": {
  "kernelspec": {
   "display_name": "Python 3",
   "language": "python",
   "name": "python3"
  },
  "language_info": {
   "codemirror_mode": {
    "name": "ipython",
    "version": 3
   },
   "file_extension": ".py",
   "mimetype": "text/x-python",
   "name": "python",
   "nbconvert_exporter": "python",
   "pygments_lexer": "ipython3",
   "version": "3.8.10"
  }
 },
 "nbformat": 4,
 "nbformat_minor": 4
}
